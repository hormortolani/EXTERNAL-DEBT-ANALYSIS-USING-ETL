{
 "cells": [
  {
   "cell_type": "markdown",
   "id": "cf92abd2-1354-42a7-8c06-290601a15886",
   "metadata": {},
   "source": [
    "This data consist the list of countries by external debt it is the total public and private debt owed to nonresidents repayable in internationally accepted currencies, goods or services, where the public debt is the money or credit owed by any level of government, from central to local, and the private debt the money or credit owed by private households or private corporations based on the country under consideration.\n",
    "\n",
    "For information purposes, several non-sovereign entities are also included in this list.\n",
    "\n",
    "Note that while a country may have a relatively large external debt (either in absolute or per capita terms) it could actually be a \"net international creditor\" if its external debt is less than the total of external debt of other countries held by it."
   ]
  },
  {
   "cell_type": "code",
   "execution_count": 1,
   "id": "cdf85517-cd62-4e42-8f6a-23d18a81ef51",
   "metadata": {},
   "outputs": [],
   "source": [
    "import pandas as pd\n",
    "import requests\n",
    "from bs4 import BeautifulSoup\n",
    "import warnings\n",
    "warnings.filterwarnings('ignore')"
   ]
  },
  {
   "cell_type": "markdown",
   "id": "f4ce3315-7038-44df-833a-e4688f192c4e",
   "metadata": {},
   "source": [
    "### URL of the Wikipedia page\n"
   ]
  },
  {
   "cell_type": "code",
   "execution_count": 135,
   "id": "795ebec4-f83d-42ae-884a-c1a025c98513",
   "metadata": {},
   "outputs": [],
   "source": [
    "url = 'https://en.wikipedia.org/wiki/List_of_countries_by_external_debt'"
   ]
  },
  {
   "cell_type": "markdown",
   "id": "0c4b7c26-4bee-473e-98ef-5f522285f491",
   "metadata": {},
   "source": [
    "### Send a GET request to the URL"
   ]
  },
  {
   "cell_type": "code",
   "execution_count": 138,
   "id": "5b88d6a1-7876-4553-a127-3edb08d6327c",
   "metadata": {},
   "outputs": [],
   "source": [
    "response = requests.get(url)"
   ]
  },
  {
   "cell_type": "markdown",
   "id": "ecabf60e-ff5f-4fea-87b9-1a8047410228",
   "metadata": {},
   "source": [
    "### Parse the page content\n"
   ]
  },
  {
   "cell_type": "code",
   "execution_count": 140,
   "id": "f8b9df24-314d-4005-b735-ce3e7d84f870",
   "metadata": {},
   "outputs": [],
   "source": [
    "soup = BeautifulSoup(response.content, 'html.parser')"
   ]
  },
  {
   "cell_type": "markdown",
   "id": "420807a3-47be-43d2-b07d-f1d721f59ff2",
   "metadata": {},
   "source": [
    "### Find the table on the page"
   ]
  },
  {
   "cell_type": "code",
   "execution_count": 144,
   "id": "be70e44f-c118-401b-aee5-5e88633e2a0c",
   "metadata": {},
   "outputs": [],
   "source": [
    "table = soup.find('table', {'class': 'wikitable'})"
   ]
  },
  {
   "cell_type": "markdown",
   "id": "65f45c1b-487b-450c-9a0f-1557494512c7",
   "metadata": {},
   "source": [
    "### Use pandas to read the HTML table into a DataFrame\n"
   ]
  },
  {
   "cell_type": "code",
   "execution_count": 147,
   "id": "ad529962-f17b-468d-8186-4e7b93f3eddc",
   "metadata": {},
   "outputs": [],
   "source": [
    "data = pd.read_html(str(table))[0]"
   ]
  },
  {
   "cell_type": "code",
   "execution_count": 148,
   "id": "4fff84ab-9998-462b-9b1d-98af316163d8",
   "metadata": {},
   "outputs": [
    {
     "data": {
      "text/html": [
       "<div>\n",
       "<style scoped>\n",
       "    .dataframe tbody tr th:only-of-type {\n",
       "        vertical-align: middle;\n",
       "    }\n",
       "\n",
       "    .dataframe tbody tr th {\n",
       "        vertical-align: top;\n",
       "    }\n",
       "\n",
       "    .dataframe thead tr th {\n",
       "        text-align: left;\n",
       "    }\n",
       "</style>\n",
       "<table border=\"1\" class=\"dataframe\">\n",
       "  <thead>\n",
       "    <tr>\n",
       "      <th></th>\n",
       "      <th>Country or territory</th>\n",
       "      <th colspan=\"4\" halign=\"left\">External debt (USD)</th>\n",
       "      <th>Date</th>\n",
       "    </tr>\n",
       "    <tr>\n",
       "      <th></th>\n",
       "      <th>Country or territory</th>\n",
       "      <th>Per capita[1][circular reference]</th>\n",
       "      <th>Total</th>\n",
       "      <th>% of GDP[2][circular reference]</th>\n",
       "      <th>% of total wealth[3]</th>\n",
       "      <th>Date</th>\n",
       "    </tr>\n",
       "  </thead>\n",
       "  <tbody>\n",
       "    <tr>\n",
       "      <th>206</th>\n",
       "      <td>Anguilla (UK)</td>\n",
       "      <td>553.0</td>\n",
       "      <td>8.8 million</td>\n",
       "      <td>5.0</td>\n",
       "      <td>NaN</td>\n",
       "      <td>1998[99]</td>\n",
       "    </tr>\n",
       "    <tr>\n",
       "      <th>207</th>\n",
       "      <td>Wallis and Futuna (France)</td>\n",
       "      <td>319.0</td>\n",
       "      <td>3.67 million</td>\n",
       "      <td>6.0</td>\n",
       "      <td>NaN</td>\n",
       "      <td>2004[100]</td>\n",
       "    </tr>\n",
       "    <tr>\n",
       "      <th>208</th>\n",
       "      <td>Montserrat (UK)</td>\n",
       "      <td>237.0</td>\n",
       "      <td>1.04 million</td>\n",
       "      <td>2.0</td>\n",
       "      <td>NaN</td>\n",
       "      <td>31 December 2011[101]</td>\n",
       "    </tr>\n",
       "    <tr>\n",
       "      <th>209</th>\n",
       "      <td>Liechtenstein</td>\n",
       "      <td>0.0</td>\n",
       "      <td>0</td>\n",
       "      <td>0.0</td>\n",
       "      <td>NaN</td>\n",
       "      <td>2001[102]</td>\n",
       "    </tr>\n",
       "    <tr>\n",
       "      <th>210</th>\n",
       "      <td>Niue (New Zealand)</td>\n",
       "      <td>0.0</td>\n",
       "      <td>0</td>\n",
       "      <td>0.0</td>\n",
       "      <td>NaN</td>\n",
       "      <td>27 October 2016[103]</td>\n",
       "    </tr>\n",
       "  </tbody>\n",
       "</table>\n",
       "</div>"
      ],
      "text/plain": [
       "           Country or territory               External debt (USD)  \\\n",
       "           Country or territory Per capita[1][circular reference]   \n",
       "206               Anguilla (UK)                             553.0   \n",
       "207  Wallis and Futuna (France)                             319.0   \n",
       "208             Montserrat (UK)                             237.0   \n",
       "209               Liechtenstein                               0.0   \n",
       "210          Niue (New Zealand)                               0.0   \n",
       "\n",
       "                                                                        \\\n",
       "            Total % of GDP[2][circular reference] % of total wealth[3]   \n",
       "206   8.8 million                             5.0                  NaN   \n",
       "207  3.67 million                             6.0                  NaN   \n",
       "208  1.04 million                             2.0                  NaN   \n",
       "209             0                             0.0                  NaN   \n",
       "210             0                             0.0                  NaN   \n",
       "\n",
       "                      Date  \n",
       "                      Date  \n",
       "206               1998[99]  \n",
       "207              2004[100]  \n",
       "208  31 December 2011[101]  \n",
       "209              2001[102]  \n",
       "210   27 October 2016[103]  "
      ]
     },
     "execution_count": 148,
     "metadata": {},
     "output_type": "execute_result"
    }
   ],
   "source": [
    "data.tail()"
   ]
  },
  {
   "cell_type": "code",
   "execution_count": 149,
   "id": "5e4f7a65-6a95-44bb-9c00-c6b1269c41c3",
   "metadata": {},
   "outputs": [],
   "source": [
    "data.columns = ['Country or territory', 'Per capita', 'Total', '% of GDP', '% of total wealth', 'Date']"
   ]
  },
  {
   "cell_type": "code",
   "execution_count": 153,
   "id": "74a0f802-88d9-4bfa-820a-bc18827c5e85",
   "metadata": {},
   "outputs": [
    {
     "data": {
      "text/html": [
       "<div>\n",
       "<style scoped>\n",
       "    .dataframe tbody tr th:only-of-type {\n",
       "        vertical-align: middle;\n",
       "    }\n",
       "\n",
       "    .dataframe tbody tr th {\n",
       "        vertical-align: top;\n",
       "    }\n",
       "\n",
       "    .dataframe thead th {\n",
       "        text-align: right;\n",
       "    }\n",
       "</style>\n",
       "<table border=\"1\" class=\"dataframe\">\n",
       "  <thead>\n",
       "    <tr style=\"text-align: right;\">\n",
       "      <th></th>\n",
       "      <th>Country or territory</th>\n",
       "      <th>Per capita</th>\n",
       "      <th>Total</th>\n",
       "      <th>% of GDP</th>\n",
       "      <th>% of total wealth</th>\n",
       "      <th>Date</th>\n",
       "    </tr>\n",
       "  </thead>\n",
       "  <tbody>\n",
       "    <tr>\n",
       "      <th>0</th>\n",
       "      <td>United States of America</td>\n",
       "      <td>76426.0</td>\n",
       "      <td>35 trillion</td>\n",
       "      <td>123.00</td>\n",
       "      <td>17.66</td>\n",
       "      <td>December 2023[4][5]</td>\n",
       "    </tr>\n",
       "    <tr>\n",
       "      <th>1</th>\n",
       "      <td>European Union</td>\n",
       "      <td>38855.0</td>\n",
       "      <td>17.4 trillion</td>\n",
       "      <td>97.78</td>\n",
       "      <td>16.69</td>\n",
       "      <td>Dec 2023[4]</td>\n",
       "    </tr>\n",
       "    <tr>\n",
       "      <th>2</th>\n",
       "      <td>United Kingdom</td>\n",
       "      <td>142455.0</td>\n",
       "      <td>9.65 trillion</td>\n",
       "      <td>276.07</td>\n",
       "      <td>60.41</td>\n",
       "      <td>Dec 2023[4]</td>\n",
       "    </tr>\n",
       "    <tr>\n",
       "      <th>3</th>\n",
       "      <td>France</td>\n",
       "      <td>118148.0</td>\n",
       "      <td>7.65 trillion</td>\n",
       "      <td>244.44</td>\n",
       "      <td>48.65</td>\n",
       "      <td>Dec 2023[4]</td>\n",
       "    </tr>\n",
       "    <tr>\n",
       "      <th>4</th>\n",
       "      <td>Germany</td>\n",
       "      <td>81134.0</td>\n",
       "      <td>6.76 trillion</td>\n",
       "      <td>147.20</td>\n",
       "      <td>38.78</td>\n",
       "      <td>Dec 2023[4]</td>\n",
       "    </tr>\n",
       "  </tbody>\n",
       "</table>\n",
       "</div>"
      ],
      "text/plain": [
       "       Country or territory  Per capita          Total  % of GDP  \\\n",
       "0  United States of America     76426.0    35 trillion    123.00   \n",
       "1            European Union     38855.0  17.4 trillion     97.78   \n",
       "2            United Kingdom    142455.0  9.65 trillion    276.07   \n",
       "3                    France    118148.0  7.65 trillion    244.44   \n",
       "4                   Germany     81134.0  6.76 trillion    147.20   \n",
       "\n",
       "   % of total wealth                 Date  \n",
       "0              17.66  December 2023[4][5]  \n",
       "1              16.69          Dec 2023[4]  \n",
       "2              60.41          Dec 2023[4]  \n",
       "3              48.65          Dec 2023[4]  \n",
       "4              38.78          Dec 2023[4]  "
      ]
     },
     "execution_count": 153,
     "metadata": {},
     "output_type": "execute_result"
    }
   ],
   "source": [
    "data.head()"
   ]
  },
  {
   "cell_type": "markdown",
   "id": "e2724820-9dc1-4f42-9676-7eb46252d9e5",
   "metadata": {},
   "source": [
    "### changed the date column format"
   ]
  },
  {
   "cell_type": "code",
   "execution_count": 156,
   "id": "a35e30ff-342a-40b0-9f7b-1c5bbea8f827",
   "metadata": {},
   "outputs": [],
   "source": [
    "data['Date'] = pd.to_datetime(data['Date'].str.extract(r'(\\w+ \\d{4}|\\d{4})')[0], errors='coerce')"
   ]
  },
  {
   "cell_type": "code",
   "execution_count": 158,
   "id": "63f62710-46c4-4812-9734-fd8f620788db",
   "metadata": {},
   "outputs": [],
   "source": [
    "data['Year'] = data['Date'].dt.year\n",
    "data['Month'] = data['Date'].dt.month_name()"
   ]
  },
  {
   "cell_type": "markdown",
   "id": "06f81e12-e73e-48ab-84dc-7a897bd748d1",
   "metadata": {},
   "source": [
    "### multiply call all the values in Total column by trillion figures"
   ]
  },
  {
   "cell_type": "code",
   "execution_count": 187,
   "id": "7f748aee-3524-4241-b772-8a13a96abcd7",
   "metadata": {},
   "outputs": [
    {
     "data": {
      "text/html": [
       "<div>\n",
       "<style scoped>\n",
       "    .dataframe tbody tr th:only-of-type {\n",
       "        vertical-align: middle;\n",
       "    }\n",
       "\n",
       "    .dataframe tbody tr th {\n",
       "        vertical-align: top;\n",
       "    }\n",
       "\n",
       "    .dataframe thead th {\n",
       "        text-align: right;\n",
       "    }\n",
       "</style>\n",
       "<table border=\"1\" class=\"dataframe\">\n",
       "  <thead>\n",
       "    <tr style=\"text-align: right;\">\n",
       "      <th></th>\n",
       "      <th>Country or territory</th>\n",
       "      <th>Per capita</th>\n",
       "      <th>Total</th>\n",
       "      <th>% of GDP</th>\n",
       "      <th>% of total wealth</th>\n",
       "      <th>Date</th>\n",
       "      <th>Year</th>\n",
       "      <th>Month</th>\n",
       "    </tr>\n",
       "  </thead>\n",
       "  <tbody>\n",
       "    <tr>\n",
       "      <th>201</th>\n",
       "      <td>Greenland (Denmark)</td>\n",
       "      <td>643.0</td>\n",
       "      <td>36.4 million</td>\n",
       "      <td>1.24</td>\n",
       "      <td>NaN</td>\n",
       "      <td>2010-01-01</td>\n",
       "      <td>2010</td>\n",
       "      <td>January</td>\n",
       "    </tr>\n",
       "    <tr>\n",
       "      <th>202</th>\n",
       "      <td>Nauru</td>\n",
       "      <td>2606.0</td>\n",
       "      <td>33.3 million</td>\n",
       "      <td>20.68</td>\n",
       "      <td>NaN</td>\n",
       "      <td>2004-01-01</td>\n",
       "      <td>2004</td>\n",
       "      <td>January</td>\n",
       "    </tr>\n",
       "    <tr>\n",
       "      <th>203</th>\n",
       "      <td>British Virgin Islands (UK)</td>\n",
       "      <td>560.0</td>\n",
       "      <td>17.7 million</td>\n",
       "      <td>2.00</td>\n",
       "      <td>NaN</td>\n",
       "      <td>2016-12-01</td>\n",
       "      <td>2016</td>\n",
       "      <td>December</td>\n",
       "    </tr>\n",
       "    <tr>\n",
       "      <th>204</th>\n",
       "      <td>Tuvalu</td>\n",
       "      <td>1299.0</td>\n",
       "      <td>14.8 million</td>\n",
       "      <td>22.42</td>\n",
       "      <td>NaN</td>\n",
       "      <td>2017-01-01</td>\n",
       "      <td>2017</td>\n",
       "      <td>January</td>\n",
       "    </tr>\n",
       "    <tr>\n",
       "      <th>205</th>\n",
       "      <td>Kiribati</td>\n",
       "      <td>102.0</td>\n",
       "      <td>13.6 million</td>\n",
       "      <td>4.37</td>\n",
       "      <td>NaN</td>\n",
       "      <td>2013-01-01</td>\n",
       "      <td>2013</td>\n",
       "      <td>January</td>\n",
       "    </tr>\n",
       "    <tr>\n",
       "      <th>206</th>\n",
       "      <td>Anguilla (UK)</td>\n",
       "      <td>553.0</td>\n",
       "      <td>8.8 million</td>\n",
       "      <td>5.00</td>\n",
       "      <td>NaN</td>\n",
       "      <td>1998-01-01</td>\n",
       "      <td>1998</td>\n",
       "      <td>January</td>\n",
       "    </tr>\n",
       "    <tr>\n",
       "      <th>207</th>\n",
       "      <td>Wallis and Futuna (France)</td>\n",
       "      <td>319.0</td>\n",
       "      <td>3.67 million</td>\n",
       "      <td>6.00</td>\n",
       "      <td>NaN</td>\n",
       "      <td>2004-01-01</td>\n",
       "      <td>2004</td>\n",
       "      <td>January</td>\n",
       "    </tr>\n",
       "    <tr>\n",
       "      <th>208</th>\n",
       "      <td>Montserrat (UK)</td>\n",
       "      <td>237.0</td>\n",
       "      <td>1.04 million</td>\n",
       "      <td>2.00</td>\n",
       "      <td>NaN</td>\n",
       "      <td>2011-12-01</td>\n",
       "      <td>2011</td>\n",
       "      <td>December</td>\n",
       "    </tr>\n",
       "    <tr>\n",
       "      <th>209</th>\n",
       "      <td>Liechtenstein</td>\n",
       "      <td>0.0</td>\n",
       "      <td>0</td>\n",
       "      <td>0.00</td>\n",
       "      <td>NaN</td>\n",
       "      <td>2001-01-01</td>\n",
       "      <td>2001</td>\n",
       "      <td>January</td>\n",
       "    </tr>\n",
       "    <tr>\n",
       "      <th>210</th>\n",
       "      <td>Niue (New Zealand)</td>\n",
       "      <td>0.0</td>\n",
       "      <td>0</td>\n",
       "      <td>0.00</td>\n",
       "      <td>NaN</td>\n",
       "      <td>2016-10-01</td>\n",
       "      <td>2016</td>\n",
       "      <td>October</td>\n",
       "    </tr>\n",
       "  </tbody>\n",
       "</table>\n",
       "</div>"
      ],
      "text/plain": [
       "            Country or territory  Per capita         Total  % of GDP  \\\n",
       "201          Greenland (Denmark)       643.0  36.4 million      1.24   \n",
       "202                        Nauru      2606.0  33.3 million     20.68   \n",
       "203  British Virgin Islands (UK)       560.0  17.7 million      2.00   \n",
       "204                       Tuvalu      1299.0  14.8 million     22.42   \n",
       "205                     Kiribati       102.0  13.6 million      4.37   \n",
       "206                Anguilla (UK)       553.0   8.8 million      5.00   \n",
       "207   Wallis and Futuna (France)       319.0  3.67 million      6.00   \n",
       "208              Montserrat (UK)       237.0  1.04 million      2.00   \n",
       "209                Liechtenstein         0.0             0      0.00   \n",
       "210           Niue (New Zealand)         0.0             0      0.00   \n",
       "\n",
       "     % of total wealth       Date  Year     Month  \n",
       "201                NaN 2010-01-01  2010   January  \n",
       "202                NaN 2004-01-01  2004   January  \n",
       "203                NaN 2016-12-01  2016  December  \n",
       "204                NaN 2017-01-01  2017   January  \n",
       "205                NaN 2013-01-01  2013   January  \n",
       "206                NaN 1998-01-01  1998   January  \n",
       "207                NaN 2004-01-01  2004   January  \n",
       "208                NaN 2011-12-01  2011  December  \n",
       "209                NaN 2001-01-01  2001   January  \n",
       "210                NaN 2016-10-01  2016   October  "
      ]
     },
     "execution_count": 187,
     "metadata": {},
     "output_type": "execute_result"
    }
   ],
   "source": [
    "data.tail(10)"
   ]
  },
  {
   "cell_type": "code",
   "execution_count": 175,
   "id": "a051176a-34b4-449b-9dbd-5583f6015d99",
   "metadata": {},
   "outputs": [
    {
     "name": "stdout",
     "output_type": "stream",
     "text": [
      "<class 'pandas.core.frame.DataFrame'>\n",
      "RangeIndex: 211 entries, 0 to 210\n",
      "Data columns (total 8 columns):\n",
      " #   Column                Non-Null Count  Dtype         \n",
      "---  ------                --------------  -----         \n",
      " 0   Country or territory  211 non-null    object        \n",
      " 1   Per capita            211 non-null    float64       \n",
      " 2   Total                 211 non-null    object        \n",
      " 3   % of GDP              211 non-null    float64       \n",
      " 4   % of total wealth     159 non-null    float64       \n",
      " 5   Date                  211 non-null    datetime64[ns]\n",
      " 6   Year                  211 non-null    int32         \n",
      " 7   Month                 211 non-null    object        \n",
      "dtypes: datetime64[ns](1), float64(3), int32(1), object(3)\n",
      "memory usage: 12.5+ KB\n"
     ]
    }
   ],
   "source": [
    "data.info()"
   ]
  },
  {
   "cell_type": "code",
   "execution_count": 177,
   "id": "3db693d7-2eca-43cd-a23d-49feef45455f",
   "metadata": {},
   "outputs": [
    {
     "data": {
      "text/html": [
       "<div>\n",
       "<style scoped>\n",
       "    .dataframe tbody tr th:only-of-type {\n",
       "        vertical-align: middle;\n",
       "    }\n",
       "\n",
       "    .dataframe tbody tr th {\n",
       "        vertical-align: top;\n",
       "    }\n",
       "\n",
       "    .dataframe thead th {\n",
       "        text-align: right;\n",
       "    }\n",
       "</style>\n",
       "<table border=\"1\" class=\"dataframe\">\n",
       "  <thead>\n",
       "    <tr style=\"text-align: right;\">\n",
       "      <th></th>\n",
       "      <th>Per capita</th>\n",
       "      <th>% of GDP</th>\n",
       "      <th>% of total wealth</th>\n",
       "      <th>Date</th>\n",
       "      <th>Year</th>\n",
       "    </tr>\n",
       "  </thead>\n",
       "  <tbody>\n",
       "    <tr>\n",
       "      <th>count</th>\n",
       "      <td>2.110000e+02</td>\n",
       "      <td>211.000000</td>\n",
       "      <td>159.000000</td>\n",
       "      <td>211</td>\n",
       "      <td>211.000000</td>\n",
       "    </tr>\n",
       "    <tr>\n",
       "      <th>mean</th>\n",
       "      <td>5.773482e+04</td>\n",
       "      <td>121.278483</td>\n",
       "      <td>44.891950</td>\n",
       "      <td>2019-07-21 22:44:55.734597120</td>\n",
       "      <td>2018.943128</td>\n",
       "    </tr>\n",
       "    <tr>\n",
       "      <th>min</th>\n",
       "      <td>0.000000e+00</td>\n",
       "      <td>0.000000</td>\n",
       "      <td>0.210000</td>\n",
       "      <td>1998-01-01 00:00:00</td>\n",
       "      <td>1998.000000</td>\n",
       "    </tr>\n",
       "    <tr>\n",
       "      <th>25%</th>\n",
       "      <td>5.565000e+02</td>\n",
       "      <td>18.160000</td>\n",
       "      <td>12.735000</td>\n",
       "      <td>2016-12-01 00:00:00</td>\n",
       "      <td>2016.000000</td>\n",
       "    </tr>\n",
       "    <tr>\n",
       "      <th>50%</th>\n",
       "      <td>2.351000e+03</td>\n",
       "      <td>38.790000</td>\n",
       "      <td>21.020000</td>\n",
       "      <td>2021-01-01 00:00:00</td>\n",
       "      <td>2021.000000</td>\n",
       "    </tr>\n",
       "    <tr>\n",
       "      <th>75%</th>\n",
       "      <td>1.353450e+04</td>\n",
       "      <td>73.400000</td>\n",
       "      <td>40.450000</td>\n",
       "      <td>2023-12-01 00:00:00</td>\n",
       "      <td>2023.000000</td>\n",
       "    </tr>\n",
       "    <tr>\n",
       "      <th>max</th>\n",
       "      <td>5.790000e+06</td>\n",
       "      <td>5968.000000</td>\n",
       "      <td>1267.430000</td>\n",
       "      <td>2024-07-01 00:00:00</td>\n",
       "      <td>2024.000000</td>\n",
       "    </tr>\n",
       "    <tr>\n",
       "      <th>std</th>\n",
       "      <td>4.091621e+05</td>\n",
       "      <td>514.339686</td>\n",
       "      <td>112.299353</td>\n",
       "      <td>NaN</td>\n",
       "      <td>5.059323</td>\n",
       "    </tr>\n",
       "  </tbody>\n",
       "</table>\n",
       "</div>"
      ],
      "text/plain": [
       "         Per capita     % of GDP  % of total wealth  \\\n",
       "count  2.110000e+02   211.000000         159.000000   \n",
       "mean   5.773482e+04   121.278483          44.891950   \n",
       "min    0.000000e+00     0.000000           0.210000   \n",
       "25%    5.565000e+02    18.160000          12.735000   \n",
       "50%    2.351000e+03    38.790000          21.020000   \n",
       "75%    1.353450e+04    73.400000          40.450000   \n",
       "max    5.790000e+06  5968.000000        1267.430000   \n",
       "std    4.091621e+05   514.339686         112.299353   \n",
       "\n",
       "                                Date         Year  \n",
       "count                            211   211.000000  \n",
       "mean   2019-07-21 22:44:55.734597120  2018.943128  \n",
       "min              1998-01-01 00:00:00  1998.000000  \n",
       "25%              2016-12-01 00:00:00  2016.000000  \n",
       "50%              2021-01-01 00:00:00  2021.000000  \n",
       "75%              2023-12-01 00:00:00  2023.000000  \n",
       "max              2024-07-01 00:00:00  2024.000000  \n",
       "std                              NaN     5.059323  "
      ]
     },
     "execution_count": 177,
     "metadata": {},
     "output_type": "execute_result"
    }
   ],
   "source": [
    "data.describe()"
   ]
  },
  {
   "cell_type": "markdown",
   "id": "cb449829-0c08-49cb-9d7d-80eda8043be7",
   "metadata": {},
   "source": [
    "### importing some libriares to move the data to MYSQL"
   ]
  },
  {
   "cell_type": "code",
   "execution_count": 179,
   "id": "e1875185-5eda-480f-886d-df82d4b549a5",
   "metadata": {},
   "outputs": [],
   "source": [
    "import pyodbc\n",
    "import sqlalchemy"
   ]
  },
  {
   "cell_type": "code",
   "execution_count": 180,
   "id": "eb6ecce9-126a-414d-9113-ecaedb35ddd4",
   "metadata": {},
   "outputs": [],
   "source": [
    "engine = sqlalchemy.create_engine(r'mssql://DESKTOP-KFUGVTE\\SQLEXPRESS10/Project?driver=ODBC+DRIVER+17+FOR+SQL+SERVER')\n",
    "conn = engine.connect()"
   ]
  },
  {
   "cell_type": "code",
   "execution_count": 182,
   "id": "a42f432f-917f-4e0e-bb8e-095aa8ba4712",
   "metadata": {},
   "outputs": [
    {
     "data": {
      "text/plain": [
       "211"
      ]
     },
     "execution_count": 182,
     "metadata": {},
     "output_type": "execute_result"
    }
   ],
   "source": [
    "data.to_sql(name='External_debt', con=conn, index=False, if_exists='replace')"
   ]
  },
  {
   "cell_type": "code",
   "execution_count": 185,
   "id": "e7f1440b-e182-4c46-8504-06937a467ba5",
   "metadata": {},
   "outputs": [
    {
     "name": "stdout",
     "output_type": "stream",
     "text": [
      "Number of rows: 211\n"
     ]
    }
   ],
   "source": [
    "number_of_rows = len(data)\n",
    "print(\"Number of rows:\", number_of_rows)"
   ]
  }
 ],
 "metadata": {
  "kernelspec": {
   "display_name": "Python 3 (ipykernel)",
   "language": "python",
   "name": "python3"
  },
  "language_info": {
   "codemirror_mode": {
    "name": "ipython",
    "version": 3
   },
   "file_extension": ".py",
   "mimetype": "text/x-python",
   "name": "python",
   "nbconvert_exporter": "python",
   "pygments_lexer": "ipython3",
   "version": "3.12.4"
  }
 },
 "nbformat": 4,
 "nbformat_minor": 5
}
